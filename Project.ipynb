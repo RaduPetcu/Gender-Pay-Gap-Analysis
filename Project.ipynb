{
 "cells": [
  {
   "cell_type": "markdown",
   "metadata": {},
   "source": [
    "# Measuring the Gender Pay Gap with Blinder-Oaxaca Decompositions\n",
    "###### (And comparing to existing measures)\n",
    "---------\n",
    "#### Chris Fong and Ronald Walker"
   ]
  },
  {
   "cell_type": "markdown",
   "metadata": {},
   "source": [
    "Due May 9th at 5pm\n",
    "\n",
    "Requirements:\n",
    "\n",
    "1. It should involve the use of real data to explore a question of interest to you.\n",
    "\n",
    "2. The data should be analyzed using figures/maps, summary tables as well as statistical methods introduced in Ec 140, 141 or C142. As a rough guide a good project will include 2-3 figures, 2-3 displays of summary or descriptive statistics (e.g., cross-tabs) and the presentation of estimation results from a small collection of econometric models (e.g., OLS or quantile regression fits with different conditioning variables).\n",
    "\n",
    "3. The analysis and write-up should be done in Python using a Jupyter notebook (with all project narrative included in markdown cells). Code should be clearly commented. The write-up should explain the assumptions being invoked to justify the analysis and also include a discussion and interpretation of any results. A clear discussion of the limitations of the analysis and how it might be improved through further work should also be included.\n",
    "\n",
    "4. group projects need to include a few paragraphs explaining each team members specific contributions"
   ]
  },
  {
   "cell_type": "code",
   "execution_count": 20,
   "metadata": {
    "collapsed": true
   },
   "outputs": [],
   "source": [
    "import pandas as pd\n",
    "import matplotlib.pyplot as plt\n",
    "plt.style.use('ggplot')\n",
    "import seaborn as sns\n",
    "import numpy as np\n",
    "%matplotlib inline"
   ]
  },
  {
   "cell_type": "markdown",
   "metadata": {},
   "source": [
    "0 -- Background\n",
    "\n",
    "1 -- Implementation and Interpretation of Blinder-Oaxaca\n",
    "\n",
    "2 -- Data Collection and Cleaning\n",
    "\n",
    "3 -- Application of Blinder-Oaxaca"
   ]
  },
  {
   "cell_type": "markdown",
   "metadata": {},
   "source": [
    "## 0. Background / Introduction\n",
    "\n",
    "Motivation -- may merge w/ 1.\n",
    "\n",
    "Relating to previous studies. Seeing how this measures up compared to other measures."
   ]
  },
  {
   "cell_type": "markdown",
   "metadata": {},
   "source": [
    "## 1. Implementation and Interpretation of Blinder-Oaxaca\n",
    "\n",
    "Blinder-Oaxaca decompositions are easily performed in Stata with the `oaxaca` package. There is also an R package, but there is yet to be one created for Python. This project is the underlying foundation for a Python implementation.\n",
    "\n",
    "The goal of a Blinder-Oaxaca decomposition is to take the difference in expected outcomes between two groups, and identify what contributes to the outcome gap. "
   ]
  },
  {
   "cell_type": "markdown",
   "metadata": {},
   "source": [
    "### Decompositions\n",
    "\n",
    "*Note: Because the scope of this project is to create a greater understanding of the root of potential pay gaps, this walkthrough will be in the context of that. Our outcome of interest will be wages $w$. The two groups we will be comparing will be males $m$ and females $f$.*\n",
    "\n",
    "In this section we'll break down the calculation of the decomposition. The wage gap in wages is the difference in the average wage for males and the average wage for females.\n",
    "\n",
    "$$Gap = E[Wage_m] - E[Wage_f]$$\n",
    "\n",
    "We will substitute those expectations with a linear model for each group using the following form, where $X$ are the attributes that go into determining an individual's wage, and $\\epsilon$ is an error term:\n",
    "\n",
    "$$Wage= X'\\beta + \\epsilon$$\n",
    "\n",
    "where $\\bar\\epsilon=0$. After plugging the linear models for each gender into the $Gap$ equation, and using the assumption that the expectation of the errors is zero and making the assumption that $E[\\beta]=\\beta$, we are left with\n",
    "\n",
    "$$Gap = E[X_m]'\\beta_m - E[X_f]'\\beta_f$$\n",
    "\n",
    "We can further decompose the regression terms and $X$ values to identify the source of the difference. There are two main ways that Oaxaca-type decompositions are broken down."
   ]
  },
  {
   "cell_type": "markdown",
   "metadata": {},
   "source": [
    "#### 1. Three-fold\n",
    "\n",
    "The first decomposition breaks down into three parts:\n",
    "\n",
    "$$Gap = (E[X_m]-E[X_f])'\\beta_f \\quad \\quad (1)$$\n",
    "$$+E[X_f]'(\\beta_m-\\beta_f) \\quad \\quad \\quad (2)$$\n",
    "$$+(E[X_m]-E[X_f])'(\\beta_m-\\beta_f) \\quad \\quad (3)$$\n",
    "\n",
    "Each of those represents a source of the difference, we'll call them the Endowment (1), Coefficient (2), and Interaction (3) terms.\n",
    "\n",
    "(1) The first term is the portion of the gap that comes from different **endowments**, that is, the difference in attributes between males and females. So a difference in educational attainment would be captured here.\n",
    "\n",
    "(2) The second term is the portion of the gap difference that comes from different **coefficients**, or the difference in returns from their attributes. So a difference in the value that education returns to wages would be captured here.\n",
    "\n",
    "(3) The third term is the portion of the gap that comes from the **interaction** between the different endowments and coefficients.\n",
    "\n",
    "In summary, a difference in the slope for education is in (2), and being somewhere else along that line is in (1).\n",
    "\n",
    "-------\n",
    "*It is important to note that this decomposition uses the female regression as its baseline. In (1), we use the female regression coefficients to calculate the different endowment effect, and in (2), we use the female values of $E[X]$ to calculate the impact of different coefficients. This can easily be done using a male regression baseline by switching the order of the terms.*\n",
    "\n",
    "If we want to see the contributions to each of (1), (2), and (3) from individual variables (each row in $X$), we are able to use the fact that the each is a summation of the contribution of each subfactor. Using the Endowment term as an example, for each of the $m$ variables:\n",
    "\n",
    "$$(E[X_m]-E[X_f])'\\beta_f = \\sum_{i=1}^{m}(E[X_{mi}]-E[X_{fi}])'\\beta_{fi}$$\n",
    "\n",
    "We would just pull out a term of the summation for variable analysis.\n",
    "\n",
    "------"
   ]
  },
  {
   "cell_type": "markdown",
   "metadata": {},
   "source": [
    "#### 2. Two-fold\n",
    "\n",
    "A second type of Blinder-Oaxaca type decomposition is a two-fold decomposition. It splits the gap into two components: an explained portion $E$ and an unexplained portion $U$.\n",
    "\n",
    "$$Gap = E + U$$\n",
    "\n",
    "This decomposition makes the assumption that there is a set of true regression coefficients, $\\beta^*.$ There are many ways to calculate the true regression line, but it is highly contextual. If it is thought that there is discrimination that is negative to one group, and not positive toward the other, $\\beta^*$ may just be the coefficients of the undiscriminated group. If one group benefits and the other is hurt by discrimination, $\\beta^*$ is often calculated from a pooled regression between the two groups. We will be using a pooled regression as our $\\beta^*$, though there are many ways to calculate it.\n",
    "\n",
    "The **explained** portion $E$ is called the \"quantity effect\", and is similar to the **endowments** term from the three-fold decomposition.\n",
    "\n",
    "$$E = (E[X_m]-E[X_f])\\beta^* $$\n",
    "\n",
    "The **unexplained** portion $U$ captures the differences in coefficients from the true regression.\n",
    "\n",
    "$$U = E[X_m](\\beta_m-\\beta^*) + E[X_f](\\beta^*-\\beta_f) $$\n",
    "\n",
    "This **unexplained** portion is normally attributed to discrimination, but as stated in the Jann paper, \"this interpretation hinges on the assumption that there are no relevant unobserved predictors.\"(4) If we have low explanatory power in our regression equations, there is potential for most of the noise to be captured in this term.\n",
    "\n",
    "Even though discrimination is normally attributed to the coefficients, sometimes there is discrimination that presents itself in the endowment terms. For example, if a female is less likely to be admitted to school based on discrimination, then they will have lower education values that not naturally inherent to them."
   ]
  },
  {
   "cell_type": "markdown",
   "metadata": {},
   "source": [
    "#### Summary:\n",
    "\n",
    "Three-fold: Difference in endowments, difference in returns to those endowments, interaction between those endowments and the rate of return. Uses one of the groups as a baseline. Discrimination is measured from differences in returns and (sometimes) from the interaction term.\n",
    "\n",
    "Two-fold: difference in endowments, difference in returns from endowments. We use a pooled baseline. Discrimination is measured from the unexplained term (the difference in returns from endowments)."
   ]
  },
  {
   "cell_type": "markdown",
   "metadata": {},
   "source": [
    "<font color=\"red\">HERE</font>\n",
    "\n",
    "### Calculating Standard Errors"
   ]
  },
  {
   "cell_type": "markdown",
   "metadata": {},
   "source": [
    "### Implementation\n",
    "\n",
    "You are able to see the steps that we perform to be able to calculate these values.\n",
    "\n",
    "comparison to stata output to make sure that our values are correct :)\n",
    "\n",
    "We are building on top of `statsmodels`, so the framework will easily translate to regression models outside of just OLS. (insert the paper of using logit w/ BO)"
   ]
  },
  {
   "cell_type": "markdown",
   "metadata": {},
   "source": [
    "## 2. Data\n",
    "\n",
    "Where the data set is from.\n",
    "\n",
    "How we plan to use it.\n",
    "\n",
    "Any standardization and cleaning you did.\n",
    "\n",
    "Any caveats.\n",
    "\n",
    "Summary tables and statistics."
   ]
  },
  {
   "cell_type": "code",
   "execution_count": 8,
   "metadata": {},
   "outputs": [
    {
     "name": "stdout",
     "output_type": "stream",
     "text": [
      "(5300079, 9)\n"
     ]
    },
    {
     "data": {
      "text/html": [
       "<div>\n",
       "<table border=\"1\" class=\"dataframe\">\n",
       "  <thead>\n",
       "    <tr style=\"text-align: right;\">\n",
       "      <th></th>\n",
       "      <th>COUNTRY</th>\n",
       "      <th>PERWT</th>\n",
       "      <th>AGE</th>\n",
       "      <th>SEX</th>\n",
       "      <th>MARST</th>\n",
       "      <th>NATIVITY</th>\n",
       "      <th>EDATTAIN</th>\n",
       "      <th>EMPSTAT</th>\n",
       "      <th>INCTOT</th>\n",
       "    </tr>\n",
       "  </thead>\n",
       "  <tbody>\n",
       "    <tr>\n",
       "      <th>0</th>\n",
       "      <td>Brazil</td>\n",
       "      <td>18.54</td>\n",
       "      <td>22</td>\n",
       "      <td>1</td>\n",
       "      <td>2</td>\n",
       "      <td>1</td>\n",
       "      <td>2</td>\n",
       "      <td>1</td>\n",
       "      <td>1000.0</td>\n",
       "    </tr>\n",
       "    <tr>\n",
       "      <th>1</th>\n",
       "      <td>Brazil</td>\n",
       "      <td>20.23</td>\n",
       "      <td>54</td>\n",
       "      <td>1</td>\n",
       "      <td>2</td>\n",
       "      <td>1</td>\n",
       "      <td>1</td>\n",
       "      <td>1</td>\n",
       "      <td>700.0</td>\n",
       "    </tr>\n",
       "    <tr>\n",
       "      <th>2</th>\n",
       "      <td>Brazil</td>\n",
       "      <td>20.23</td>\n",
       "      <td>44</td>\n",
       "      <td>2</td>\n",
       "      <td>2</td>\n",
       "      <td>1</td>\n",
       "      <td>1</td>\n",
       "      <td>1</td>\n",
       "      <td>419.0</td>\n",
       "    </tr>\n",
       "    <tr>\n",
       "      <th>3</th>\n",
       "      <td>Brazil</td>\n",
       "      <td>20.23</td>\n",
       "      <td>22</td>\n",
       "      <td>2</td>\n",
       "      <td>1</td>\n",
       "      <td>1</td>\n",
       "      <td>1</td>\n",
       "      <td>3</td>\n",
       "      <td>510.0</td>\n",
       "    </tr>\n",
       "    <tr>\n",
       "      <th>4</th>\n",
       "      <td>Brazil</td>\n",
       "      <td>20.23</td>\n",
       "      <td>26</td>\n",
       "      <td>2</td>\n",
       "      <td>1</td>\n",
       "      <td>1</td>\n",
       "      <td>3</td>\n",
       "      <td>1</td>\n",
       "      <td>650.0</td>\n",
       "    </tr>\n",
       "  </tbody>\n",
       "</table>\n",
       "</div>"
      ],
      "text/plain": [
       "  COUNTRY  PERWT  AGE  SEX  MARST  NATIVITY  EDATTAIN  EMPSTAT  INCTOT\n",
       "0  Brazil  18.54   22    1      2         1         2        1  1000.0\n",
       "1  Brazil  20.23   54    1      2         1         1        1   700.0\n",
       "2  Brazil  20.23   44    2      2         1         1        1   419.0\n",
       "3  Brazil  20.23   22    2      1         1         1        3   510.0\n",
       "4  Brazil  20.23   26    2      1         1         3        1   650.0"
      ]
     },
     "execution_count": 8,
     "metadata": {},
     "output_type": "execute_result"
    }
   ],
   "source": [
    "data = pd.read_csv('Brazil.csv')\n",
    "print(data.shape)\n",
    "data.head()"
   ]
  },
  {
   "cell_type": "markdown",
   "metadata": {},
   "source": [
    "## 3. Application\n",
    "\n",
    "For each country of interest:\n",
    "\n",
    "Find current measure of pay gap inequality.\n",
    "\n",
    "Regress log(wages) on gender and other variables (race, number of dependents, education, etc.) and control for role/industry, industry, neither.\n",
    "\n",
    "Plot stacked bar chart of explained + unexplained.\n",
    "\n",
    "Plot current measure of inequality vs unexplained proportion from B-O."
   ]
  },
  {
   "cell_type": "markdown",
   "metadata": {},
   "source": [
    "# ASSUMPTIONS:\n",
    "\n",
    "* R^2 isn't terrible (fix: relative unexplained)\n",
    "* discrimination lies mainly in unexplained, and doesn't spill over too much to endowments.\n",
    "* by using two separate regressions, we are not imposing one set of behavior on each group. Education may not work the same way in that country for men and women."
   ]
  },
  {
   "cell_type": "markdown",
   "metadata": {},
   "source": [
    "**Citations:**\n",
    "\n",
    "Jann, Ben, 2008. \"<a href=\"https://EconPapers.repec.org/RePEc:ets:wpaper:5\">A Stata implementation of the Blinder-Oaxaca decomposition</a>\", No 5, ETH Zurich Sociology Working Papers, ETH Zurich, Chair of Sociology.\n",
    "\n",
    "__our data source__\n",
    "\n",
    "Kennedy, Peter & Jutta Heinrichs, 2007. \"A computational trick for calculating the Blinder-Oaxaca decomposition and its standard error,\" Economics Bulletin, AccessEcon, vol. 3(66), pages 1-7."
   ]
  }
 ],
 "metadata": {
  "anaconda-cloud": {},
  "kernelspec": {
   "display_name": "Python [Root]",
   "language": "python",
   "name": "Python [Root]"
  },
  "language_info": {
   "codemirror_mode": {
    "name": "ipython",
    "version": 3
   },
   "file_extension": ".py",
   "mimetype": "text/x-python",
   "name": "python",
   "nbconvert_exporter": "python",
   "pygments_lexer": "ipython3",
   "version": "3.5.2"
  }
 },
 "nbformat": 4,
 "nbformat_minor": 2
}

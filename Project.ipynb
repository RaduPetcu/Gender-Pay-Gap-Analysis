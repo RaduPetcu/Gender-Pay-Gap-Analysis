{
 "cells": [
  {
   "cell_type": "markdown",
   "metadata": {},
   "source": [
    "# Measuring the Gender Pay Gap with Blinder-Oaxaca Decompositions\n",
    "###### (And comparing to existing measures)\n",
    "---------\n",
    "#### Chris Fong and Ronald Walker"
   ]
  },
  {
   "cell_type": "markdown",
   "metadata": {},
   "source": [
    "Due May 9th at 5pm\n",
    "\n",
    "Requirements:\n",
    "\n",
    "1. It should involve the use of real data to explore a question of interest to you.\n",
    "\n",
    "2. The data should be analyzed using figures/maps, summary tables as well as statistical methods introduced in Ec 140, 141 or C142. As a rough guide a good project will include 2-3 figures, 2-3 displays of summary or descriptive statistics (e.g., cross-tabs) and the presentation of estimation results from a small collection of econometric models (e.g., OLS or quantile regression fits with different conditioning variables).\n",
    "\n",
    "3. The analysis and write-up should be done in Python using a Jupyter notebook (with all project narrative included in markdown cells). Code should be clearly commented. The write-up should explain the assumptions being invoked to justify the analysis and also include a discussion and interpretation of any results. A clear discussion of the limitations of the analysis and how it might be improved through further work should also be included.\n",
    "\n",
    "4. group projects need to include a few paragraphs explaining each team members specific contributions"
   ]
  },
  {
   "cell_type": "code",
   "execution_count": 2,
   "metadata": {
    "collapsed": true
   },
   "outputs": [],
   "source": [
    "import pandas as pd\n",
    "import matplotlib.pyplot as plt\n",
    "plt.style.use('ggplot')\n",
    "import seaborn as sns\n",
    "import numpy as np\n",
    "%matplotlib inline"
   ]
  },
  {
   "cell_type": "markdown",
   "metadata": {},
   "source": [
    "0 -- Background\n",
    "\n",
    "1 -- Implementation and Interpretation of Blinder-Oaxaca\n",
    "\n",
    "2 -- Data Collection and Cleaning\n",
    "\n",
    "3 -- Application of Blinder-Oaxaca"
   ]
  },
  {
   "cell_type": "markdown",
   "metadata": {},
   "source": [
    "## 0. Background / Introduction\n",
    "\n",
    "Motivation -- may merge w/ 1.\n",
    "\n",
    "Relating to previous studies. Seeing how this measures up compared to other measures."
   ]
  },
  {
   "cell_type": "markdown",
   "metadata": {},
   "source": [
    "## 1. Implementation and Interpretation of Blinder-Oaxaca\n",
    "\n",
    "Blinder-Oaxaca decompositions are easily performed in Stata with the `oaxaca` package. There is also an R package, but there is yet to be one created for Python. This project is the underlying foundation for a Python implementation.\n",
    "\n",
    "The goal of a Blinder-Oaxaca decomposition is to take the difference in expected outcomes between two groups, and identify what contributes to the outcome gap. "
   ]
  },
  {
   "cell_type": "markdown",
   "metadata": {},
   "source": [
    "### Decompositions\n",
    "\n",
    "*Note: Because the scope of this project is to create a greater understanding of the root of potential pay gaps, this walkthrough will be in the context of that. Our outcome of interest will be wages $w$. The two groups we will be comparing will be males $m$ and females $f$.*\n",
    "\n",
    "In this section we'll break down the calculation of the decomposition. The wage gap in wages is the difference in the average wage for males and the average wage for females.\n",
    "\n",
    "$$Gap = E[Wage_m] - E[Wage_f]$$\n",
    "\n",
    "We will substitute those expectations with a linear model for each group using the following form, where $X$ are the attributes that go into determining an individual's wage, and $\\epsilon$ is an error term:\n",
    "\n",
    "$$Wage= X'\\beta + \\epsilon$$\n",
    "\n",
    "where $\\bar\\epsilon=0$. After plugging the linear models for each gender into the $Gap$ equation, and using the assumption that the expectation of the errors is zero and making the assumption that $E[\\beta]=\\beta$, we are left with\n",
    "\n",
    "$$Gap = E[X_m]'\\beta_m - E[X_f]'\\beta_f$$\n",
    "\n",
    "We can further decompose the regression terms and $X$ values to identify the source of the difference. There are two main ways that Oaxaca-type decompositions are broken down."
   ]
  },
  {
   "cell_type": "markdown",
   "metadata": {},
   "source": [
    "#### 1. Three-fold\n",
    "\n",
    "The first decomposition breaks down into three parts:\n",
    "\n",
    "$$Gap = (E[X_m]-E[X_f])'\\beta_f \\quad \\quad (1)$$\n",
    "$$+E[X_f]'(\\beta_m-\\beta_f) \\quad \\quad \\quad (2)$$\n",
    "$$+(E[X_m]-E[X_f])'(\\beta_m-\\beta_f) \\quad \\quad (3)$$\n",
    "\n",
    "Each of those represents a source of the difference, we'll call them the Endowment (1), Coefficient (2), and Interaction (3) terms.\n",
    "\n",
    "(1) The first term is the portion of the gap that comes from different **endowments**, that is, the difference in attributes between males and females. So a difference in educational attainment would be captured here.\n",
    "\n",
    "(2) The second term is the portion of the gap difference that comes from different **coefficients**, or the difference in returns from their attributes. So a difference in the value that education returns to wages would be captured here.\n",
    "\n",
    "(3) The third term is the portion of the gap that comes from the **interaction** between the different endowments and coefficients.\n",
    "\n",
    "In summary, a difference in the slope for education is in (2), and being somewhere else along that line is in (1).\n",
    "\n",
    "-------\n",
    "*It is important to note that this decomposition uses the female regression as its baseline. In (1), we use the female regression coefficients to calculate the different endowment effect, and in (2), we use the female values of $E[X]$ to calculate the impact of different coefficients. This can easily be done using a male regression baseline by switching the order of the terms.*\n",
    "\n",
    "If we want to see the contributions to each of (1), (2), and (3) from individual variables (each row in $X$), we are able to use the fact that the each is a summation of the contribution of each subfactor. Using the Endowment term as an example, for each of the $m$ variables:\n",
    "\n",
    "$$(E[X_m]-E[X_f])'\\beta_f = \\sum_{i=1}^{m}(E[X_{mi}]-E[X_{fi}])'\\beta_{fi}$$\n",
    "\n",
    "We would just pull out a term of the summation for variable analysis.\n",
    "\n",
    "------"
   ]
  },
  {
   "cell_type": "markdown",
   "metadata": {},
   "source": [
    "#### 2. Two-fold\n",
    "\n",
    "A second type of Blinder-Oaxaca type decomposition is a two-fold decomposition. It splits the gap into two components: an explained portion $E$ and an unexplained portion $U$.\n",
    "\n",
    "$$Gap = E + U$$\n",
    "\n",
    "This decomposition makes the assumption that there is a set of true regression coefficients, $\\beta^*.$ There are many ways to calculate the true regression line, but it is highly contextual. If it is thought that there is discrimination that is negative to one group, and not positive toward the other, $\\beta^*$ may just be the coefficients of the undiscriminated group. If one group benefits and the other is hurt by discrimination, $\\beta^*$ is often calculated from a pooled regression between the two groups. We will be using a pooled regression as our $\\beta^*$, though there are many ways to calculate it.\n",
    "\n",
    "The **explained** portion $E$ is called the \"quantity effect\", and is similar to the **endowments** term from the three-fold decomposition.\n",
    "\n",
    "$$E = (E[X_m]-E[X_f])\\beta^* $$\n",
    "\n",
    "The **unexplained** portion $U$ captures the differences in coefficients from the true regression.\n",
    "\n",
    "$$U = E[X_m](\\beta_m-\\beta^*) + E[X_f](\\beta^*-\\beta_f) $$\n",
    "\n",
    "This **unexplained** portion is normally attributed to discrimination, but as stated in the Jann paper, \"this interpretation hinges on the assumption that there are no relevant unobserved predictors.\"(4) If we have low explanatory power in our regression equations, there is potential for most of the noise to be captured in this term.\n",
    "\n",
    "Even though discrimination is normally attributed to the coefficients, sometimes there is discrimination that presents itself in the endowment terms. For example, if a female is less likely to be admitted to school based on discrimination, then they will have lower education values that not naturally inherent to them."
   ]
  },
  {
   "cell_type": "markdown",
   "metadata": {},
   "source": [
    "#### Summary:\n",
    "\n",
    "Three-fold: Difference in endowments, difference in returns to those endowments, interaction between those endowments and the rate of return. Uses one of the groups as a baseline. Discrimination is measured from differences in returns and (sometimes) from the interaction term.\n",
    "\n",
    "Two-fold: difference in endowments, difference in returns from endowments. We use a pooled baseline. Discrimination is measured from the unexplained term (the difference in returns from endowments)."
   ]
  },
  {
   "cell_type": "markdown",
   "metadata": {},
   "source": [
    "<font color=\"red\">HERE</font>\n",
    "\n",
    "### Calculating Standard Errors"
   ]
  },
  {
   "cell_type": "markdown",
   "metadata": {},
   "source": [
    "### Implementation\n",
    "\n",
    "You are able to see the steps that we perform to be able to calculate these values.\n",
    "\n",
    "comparison to stata output to make sure that our values are correct :)\n",
    "\n",
    "We are building on top of `statsmodels`, so the framework will easily translate to regression models outside of just OLS. (insert the paper of using logit w/ BO)"
   ]
  },
  {
   "cell_type": "markdown",
   "metadata": {},
   "source": [
    "## 2. Data\n",
    "\n",
    "Where the data set is from.\n",
    "\n",
    "How we plan to use it.\n",
    "\n",
    "Any standardization and cleaning you did.\n",
    "\n",
    "Any caveats.\n",
    "\n",
    "Summary tables and statistics."
   ]
  },
  {
   "cell_type": "code",
   "execution_count": 4,
   "metadata": {
    "collapsed": false
   },
   "outputs": [
    {
     "data": {
      "text/html": [
       "<div>\n",
       "<table border=\"1\" class=\"dataframe\">\n",
       "  <thead>\n",
       "    <tr style=\"text-align: right;\">\n",
       "      <th></th>\n",
       "      <th>COUNTRY</th>\n",
       "      <th>PERWT</th>\n",
       "      <th>AGE</th>\n",
       "      <th>SEX</th>\n",
       "      <th>MARST</th>\n",
       "      <th>NATIVITY</th>\n",
       "      <th>EDATTAIN</th>\n",
       "      <th>EMPSTAT</th>\n",
       "      <th>OCCISCO</th>\n",
       "      <th>INDGEN</th>\n",
       "      <th>INCTOT</th>\n",
       "    </tr>\n",
       "  </thead>\n",
       "  <tbody>\n",
       "    <tr>\n",
       "      <th>0</th>\n",
       "      <td>Brazil</td>\n",
       "      <td>18.54</td>\n",
       "      <td>22</td>\n",
       "      <td>Male</td>\n",
       "      <td>Married/in union</td>\n",
       "      <td>Native-born</td>\n",
       "      <td>Primary completed</td>\n",
       "      <td>Employed</td>\n",
       "      <td>Crafts and related trades workers</td>\n",
       "      <td>Manufacturing</td>\n",
       "      <td>9.392662</td>\n",
       "    </tr>\n",
       "    <tr>\n",
       "      <th>1</th>\n",
       "      <td>Brazil</td>\n",
       "      <td>20.23</td>\n",
       "      <td>54</td>\n",
       "      <td>Male</td>\n",
       "      <td>Married/in union</td>\n",
       "      <td>Native-born</td>\n",
       "      <td>Less than primary completed</td>\n",
       "      <td>Employed</td>\n",
       "      <td>Service workers and shop and market sales</td>\n",
       "      <td>Real estate and business services</td>\n",
       "      <td>9.035987</td>\n",
       "    </tr>\n",
       "    <tr>\n",
       "      <th>2</th>\n",
       "      <td>Brazil</td>\n",
       "      <td>20.23</td>\n",
       "      <td>44</td>\n",
       "      <td>Female</td>\n",
       "      <td>Married/in union</td>\n",
       "      <td>Native-born</td>\n",
       "      <td>Less than primary completed</td>\n",
       "      <td>Employed</td>\n",
       "      <td>Elementary occupations</td>\n",
       "      <td>Private household services</td>\n",
       "      <td>8.522778</td>\n",
       "    </tr>\n",
       "    <tr>\n",
       "      <th>3</th>\n",
       "      <td>Brazil</td>\n",
       "      <td>20.23</td>\n",
       "      <td>22</td>\n",
       "      <td>Female</td>\n",
       "      <td>Single/never married</td>\n",
       "      <td>Native-born</td>\n",
       "      <td>Less than primary completed</td>\n",
       "      <td>Inactive</td>\n",
       "      <td>NIU (not in universe)</td>\n",
       "      <td>NIU (not in universe)</td>\n",
       "      <td>8.719317</td>\n",
       "    </tr>\n",
       "    <tr>\n",
       "      <th>4</th>\n",
       "      <td>Brazil</td>\n",
       "      <td>20.23</td>\n",
       "      <td>26</td>\n",
       "      <td>Female</td>\n",
       "      <td>Single/never married</td>\n",
       "      <td>Native-born</td>\n",
       "      <td>Secondary completed</td>\n",
       "      <td>Employed</td>\n",
       "      <td>Technicians and associate professionals</td>\n",
       "      <td>Health and social work</td>\n",
       "      <td>8.961879</td>\n",
       "    </tr>\n",
       "  </tbody>\n",
       "</table>\n",
       "</div>"
      ],
      "text/plain": [
       "  COUNTRY  PERWT  AGE     SEX                 MARST     NATIVITY  \\\n",
       "0  Brazil  18.54   22    Male      Married/in union  Native-born   \n",
       "1  Brazil  20.23   54    Male      Married/in union  Native-born   \n",
       "2  Brazil  20.23   44  Female      Married/in union  Native-born   \n",
       "3  Brazil  20.23   22  Female  Single/never married  Native-born   \n",
       "4  Brazil  20.23   26  Female  Single/never married  Native-born   \n",
       "\n",
       "                      EDATTAIN   EMPSTAT  \\\n",
       "0            Primary completed  Employed   \n",
       "1  Less than primary completed  Employed   \n",
       "2  Less than primary completed  Employed   \n",
       "3  Less than primary completed  Inactive   \n",
       "4          Secondary completed  Employed   \n",
       "\n",
       "                                     OCCISCO  \\\n",
       "0          Crafts and related trades workers   \n",
       "1  Service workers and shop and market sales   \n",
       "2                     Elementary occupations   \n",
       "3                      NIU (not in universe)   \n",
       "4    Technicians and associate professionals   \n",
       "\n",
       "                              INDGEN    INCTOT  \n",
       "0                      Manufacturing  9.392662  \n",
       "1  Real estate and business services  9.035987  \n",
       "2         Private household services  8.522778  \n",
       "3              NIU (not in universe)  8.719317  \n",
       "4             Health and social work  8.961879  "
      ]
     },
     "execution_count": 4,
     "metadata": {},
     "output_type": "execute_result"
    }
   ],
   "source": [
    "Brazil = pd.read_csv('../Brazil.csv')\n",
    "Canada = pd.read_csv('../Canada.csv')\n",
    "Panama = pd.read_csv('../Panama.csv')\n",
    "PuertoRico = pd.read_csv('../PuertoRico.csv')\n",
    "UnitedStates = pd.read_csv('../UnitedStates.csv')\n",
    "Brazil.head()"
   ]
  },
  {
   "cell_type": "markdown",
   "metadata": {},
   "source": [
    "Census data was extracted from IPUMS for Brazil, Canada, Panama, Puerto Rico, and the United States.  Canada's data is from 2011 while the rest are from 2010.  Each observation represents a person who was surveyed.  Cleaning was performed using R and imported using the **ipumsr** package.  \n",
    "\n",
    "The following variables were selected from IPUMS: Person Weight, Age, Sex, Marital Status, Nativity, Educational Attainment, Employment Status, Occupation, Industry, and Total Income.  Only person's aged 16 and older were selected.  Total Income for Brazil and Panama was scaled by 12 to account for reporting differences (monthly vs yearly).  Total Income has also been log transformed and filtered to include only those with incomes greater than 0.  \n",
    "\n",
    "The goal for our analysis is to use Blinder-Oaxaca decomposition on different countries' gender income gaps to calculate the explained and unexplained differentials and compare these proportions with published measures of gender inequality. To accompish this, we will regress Total Income on gender and other demographic variables.  The coefficient of the Sex variable will be used in the decomposition."
   ]
  },
  {
   "cell_type": "code",
   "execution_count": 5,
   "metadata": {
    "collapsed": true
   },
   "outputs": [],
   "source": [
    "countries = [Brazil, Canada, Panama, PuertoRico, UnitedStates]\n",
    "countryNames = [\"Brazil\", \"Canada\", \"Panama\", \"PuertoRico\", \"UnitedStates\"]"
   ]
  },
  {
   "cell_type": "code",
   "execution_count": 6,
   "metadata": {
    "collapsed": false
   },
   "outputs": [
    {
     "data": {
      "text/plain": [
       "<matplotlib.text.Text at 0x1dc26a49a58>"
      ]
     },
     "execution_count": 6,
     "metadata": {},
     "output_type": "execute_result"
    },
    {
     "data": {
      "image/png": "[encoded data removed]",
      "text/plain": [
       "<matplotlib.figure.Figure at 0x1dc26a49978>"
      ]
     },
     "metadata": {},
     "output_type": "display_data"
    }
   ],
   "source": [
    "for i in range(0, 5):\n",
    "    plt.subplot(5, 1, i+1)\n",
    "    plt.hist(data=countries[i], x=\"AGE\", weights=\"PERWT\")\n",
    "    plt.title(countryNames[i])\n",
    "plt.suptitle(\"Age\", size=20)"
   ]
  },
  {
   "cell_type": "code",
   "execution_count": 7,
   "metadata": {
    "collapsed": true
   },
   "outputs": [],
   "source": [
    "ctab1 = {}\n",
    "for i in range(0, 5):\n",
    "    ctab1[countryNames[i]]= pd.crosstab(\n",
    "        index=countries[i]['EDATTAIN'],\n",
    "        columns=countries[i]['SEX'],\n",
    "        values=countries[i]['INCTOT'],\n",
    "        aggfunc=np.mean\n",
    "    ).round(2)\n",
    "    \n",
    "ctab2 = {}\n",
    "for i in range(0, 5):\n",
    "    ctab2[countryNames[i]]= pd.crosstab(\n",
    "        index=countries[i]['EDATTAIN'],\n",
    "        columns=countries[i]['SEX'],\n",
    "        values=countries[i]['INCTOT'],\n",
    "        aggfunc=np.size\n",
    "    ).apply(lambda x: x/np.sum(x)).round(2)\n",
    "    "
   ]
  },
  {
   "cell_type": "code",
   "execution_count": 8,
   "metadata": {
    "collapsed": true
   },
   "outputs": [],
   "source": [
    "from IPython.display import display"
   ]
  },
  {
   "cell_type": "markdown",
   "metadata": {},
   "source": [
    "Across each country, we can see that average total income increases with education level.  Among education levels, males tend to have higher incomes.  "
   ]
  },
  {
   "cell_type": "code",
   "execution_count": 9,
   "metadata": {
    "collapsed": false
   },
   "outputs": [
    {
     "data": {
      "text/plain": [
       "'Brazil'"
      ]
     },
     "metadata": {},
     "output_type": "display_data"
    },
    {
     "data": {
      "text/html": [
       "<div>\n",
       "<table border=\"1\" class=\"dataframe\">\n",
       "  <thead>\n",
       "    <tr style=\"text-align: right;\">\n",
       "      <th>SEX</th>\n",
       "      <th>Female</th>\n",
       "      <th>Male</th>\n",
       "    </tr>\n",
       "    <tr>\n",
       "      <th>EDATTAIN</th>\n",
       "      <th></th>\n",
       "      <th></th>\n",
       "    </tr>\n",
       "  </thead>\n",
       "  <tbody>\n",
       "    <tr>\n",
       "      <th>Less than primary completed</th>\n",
       "      <td>8.46</td>\n",
       "      <td>8.86</td>\n",
       "    </tr>\n",
       "    <tr>\n",
       "      <th>Primary completed</th>\n",
       "      <td>8.47</td>\n",
       "      <td>9.07</td>\n",
       "    </tr>\n",
       "    <tr>\n",
       "      <th>Secondary completed</th>\n",
       "      <td>8.97</td>\n",
       "      <td>9.46</td>\n",
       "    </tr>\n",
       "    <tr>\n",
       "      <th>University completed</th>\n",
       "      <td>9.94</td>\n",
       "      <td>10.46</td>\n",
       "    </tr>\n",
       "  </tbody>\n",
       "</table>\n",
       "</div>"
      ],
      "text/plain": [
       "SEX                          Female   Male\n",
       "EDATTAIN                                  \n",
       "Less than primary completed    8.46   8.86\n",
       "Primary completed              8.47   9.07\n",
       "Secondary completed            8.97   9.46\n",
       "University completed           9.94  10.46"
      ]
     },
     "metadata": {},
     "output_type": "display_data"
    },
    {
     "data": {
      "text/plain": [
       "'Canada'"
      ]
     },
     "metadata": {},
     "output_type": "display_data"
    },
    {
     "data": {
      "text/html": [
       "<div>\n",
       "<table border=\"1\" class=\"dataframe\">\n",
       "  <thead>\n",
       "    <tr style=\"text-align: right;\">\n",
       "      <th>SEX</th>\n",
       "      <th>Female</th>\n",
       "      <th>Male</th>\n",
       "    </tr>\n",
       "    <tr>\n",
       "      <th>EDATTAIN</th>\n",
       "      <th></th>\n",
       "      <th></th>\n",
       "    </tr>\n",
       "  </thead>\n",
       "  <tbody>\n",
       "    <tr>\n",
       "      <th>Less than primary completed</th>\n",
       "      <td>9.46</td>\n",
       "      <td>9.73</td>\n",
       "    </tr>\n",
       "    <tr>\n",
       "      <th>Secondary completed</th>\n",
       "      <td>9.86</td>\n",
       "      <td>10.19</td>\n",
       "    </tr>\n",
       "    <tr>\n",
       "      <th>University completed</th>\n",
       "      <td>10.34</td>\n",
       "      <td>10.65</td>\n",
       "    </tr>\n",
       "  </tbody>\n",
       "</table>\n",
       "</div>"
      ],
      "text/plain": [
       "SEX                          Female   Male\n",
       "EDATTAIN                                  \n",
       "Less than primary completed    9.46   9.73\n",
       "Secondary completed            9.86  10.19\n",
       "University completed          10.34  10.65"
      ]
     },
     "metadata": {},
     "output_type": "display_data"
    },
    {
     "data": {
      "text/plain": [
       "'Panama'"
      ]
     },
     "metadata": {},
     "output_type": "display_data"
    },
    {
     "data": {
      "text/html": [
       "<div>\n",
       "<table border=\"1\" class=\"dataframe\">\n",
       "  <thead>\n",
       "    <tr style=\"text-align: right;\">\n",
       "      <th>SEX</th>\n",
       "      <th>Female</th>\n",
       "      <th>Male</th>\n",
       "    </tr>\n",
       "    <tr>\n",
       "      <th>EDATTAIN</th>\n",
       "      <th></th>\n",
       "      <th></th>\n",
       "    </tr>\n",
       "  </thead>\n",
       "  <tbody>\n",
       "    <tr>\n",
       "      <th>Less than primary completed</th>\n",
       "      <td>7.20</td>\n",
       "      <td>7.89</td>\n",
       "    </tr>\n",
       "    <tr>\n",
       "      <th>Primary completed</th>\n",
       "      <td>7.75</td>\n",
       "      <td>8.32</td>\n",
       "    </tr>\n",
       "    <tr>\n",
       "      <th>Secondary completed</th>\n",
       "      <td>8.55</td>\n",
       "      <td>8.82</td>\n",
       "    </tr>\n",
       "    <tr>\n",
       "      <th>University completed</th>\n",
       "      <td>9.27</td>\n",
       "      <td>9.62</td>\n",
       "    </tr>\n",
       "    <tr>\n",
       "      <th>Unknown</th>\n",
       "      <td>10.80</td>\n",
       "      <td>10.88</td>\n",
       "    </tr>\n",
       "  </tbody>\n",
       "</table>\n",
       "</div>"
      ],
      "text/plain": [
       "SEX                          Female   Male\n",
       "EDATTAIN                                  \n",
       "Less than primary completed    7.20   7.89\n",
       "Primary completed              7.75   8.32\n",
       "Secondary completed            8.55   8.82\n",
       "University completed           9.27   9.62\n",
       "Unknown                       10.80  10.88"
      ]
     },
     "metadata": {},
     "output_type": "display_data"
    },
    {
     "data": {
      "text/plain": [
       "'PuertoRico'"
      ]
     },
     "metadata": {},
     "output_type": "display_data"
    },
    {
     "data": {
      "text/html": [
       "<div>\n",
       "<table border=\"1\" class=\"dataframe\">\n",
       "  <thead>\n",
       "    <tr style=\"text-align: right;\">\n",
       "      <th>SEX</th>\n",
       "      <th>Female</th>\n",
       "      <th>Male</th>\n",
       "    </tr>\n",
       "    <tr>\n",
       "      <th>EDATTAIN</th>\n",
       "      <th></th>\n",
       "      <th></th>\n",
       "    </tr>\n",
       "  </thead>\n",
       "  <tbody>\n",
       "    <tr>\n",
       "      <th>Less than primary completed</th>\n",
       "      <td>8.54</td>\n",
       "      <td>8.77</td>\n",
       "    </tr>\n",
       "    <tr>\n",
       "      <th>Primary completed</th>\n",
       "      <td>8.49</td>\n",
       "      <td>8.93</td>\n",
       "    </tr>\n",
       "    <tr>\n",
       "      <th>Secondary completed</th>\n",
       "      <td>9.04</td>\n",
       "      <td>9.38</td>\n",
       "    </tr>\n",
       "    <tr>\n",
       "      <th>University completed</th>\n",
       "      <td>9.93</td>\n",
       "      <td>10.25</td>\n",
       "    </tr>\n",
       "  </tbody>\n",
       "</table>\n",
       "</div>"
      ],
      "text/plain": [
       "SEX                          Female   Male\n",
       "EDATTAIN                                  \n",
       "Less than primary completed    8.54   8.77\n",
       "Primary completed              8.49   8.93\n",
       "Secondary completed            9.04   9.38\n",
       "University completed           9.93  10.25"
      ]
     },
     "metadata": {},
     "output_type": "display_data"
    },
    {
     "data": {
      "text/plain": [
       "'UnitedStates'"
      ]
     },
     "metadata": {},
     "output_type": "display_data"
    },
    {
     "data": {
      "text/html": [
       "<div>\n",
       "<table border=\"1\" class=\"dataframe\">\n",
       "  <thead>\n",
       "    <tr style=\"text-align: right;\">\n",
       "      <th>SEX</th>\n",
       "      <th>Female</th>\n",
       "      <th>Male</th>\n",
       "    </tr>\n",
       "    <tr>\n",
       "      <th>EDATTAIN</th>\n",
       "      <th></th>\n",
       "      <th></th>\n",
       "    </tr>\n",
       "  </thead>\n",
       "  <tbody>\n",
       "    <tr>\n",
       "      <th>Less than primary completed</th>\n",
       "      <td>9.16</td>\n",
       "      <td>9.56</td>\n",
       "    </tr>\n",
       "    <tr>\n",
       "      <th>Primary completed</th>\n",
       "      <td>8.93</td>\n",
       "      <td>9.30</td>\n",
       "    </tr>\n",
       "    <tr>\n",
       "      <th>Secondary completed</th>\n",
       "      <td>9.64</td>\n",
       "      <td>10.07</td>\n",
       "    </tr>\n",
       "    <tr>\n",
       "      <th>University completed</th>\n",
       "      <td>10.38</td>\n",
       "      <td>10.92</td>\n",
       "    </tr>\n",
       "  </tbody>\n",
       "</table>\n",
       "</div>"
      ],
      "text/plain": [
       "SEX                          Female   Male\n",
       "EDATTAIN                                  \n",
       "Less than primary completed    9.16   9.56\n",
       "Primary completed              8.93   9.30\n",
       "Secondary completed            9.64  10.07\n",
       "University completed          10.38  10.92"
      ]
     },
     "metadata": {},
     "output_type": "display_data"
    }
   ],
   "source": [
    "for i in range(0, 5):\n",
    "    display(countryNames[i], ctab1[countryNames[i]])"
   ]
  },
  {
   "cell_type": "markdown",
   "metadata": {},
   "source": [
    "This is interesting because when looking at the percentage of each gender at each education level, women complete University at similar or greater rates than men."
   ]
  },
  {
   "cell_type": "code",
   "execution_count": 10,
   "metadata": {
    "collapsed": false
   },
   "outputs": [
    {
     "data": {
      "text/plain": [
       "'Brazil'"
      ]
     },
     "metadata": {},
     "output_type": "display_data"
    },
    {
     "data": {
      "text/html": [
       "<div>\n",
       "<table border=\"1\" class=\"dataframe\">\n",
       "  <thead>\n",
       "    <tr style=\"text-align: right;\">\n",
       "      <th>SEX</th>\n",
       "      <th>Female</th>\n",
       "      <th>Male</th>\n",
       "    </tr>\n",
       "    <tr>\n",
       "      <th>EDATTAIN</th>\n",
       "      <th></th>\n",
       "      <th></th>\n",
       "    </tr>\n",
       "  </thead>\n",
       "  <tbody>\n",
       "    <tr>\n",
       "      <th>Less than primary completed</th>\n",
       "      <td>0.41</td>\n",
       "      <td>0.41</td>\n",
       "    </tr>\n",
       "    <tr>\n",
       "      <th>Primary completed</th>\n",
       "      <td>0.23</td>\n",
       "      <td>0.28</td>\n",
       "    </tr>\n",
       "    <tr>\n",
       "      <th>Secondary completed</th>\n",
       "      <td>0.25</td>\n",
       "      <td>0.24</td>\n",
       "    </tr>\n",
       "    <tr>\n",
       "      <th>University completed</th>\n",
       "      <td>0.11</td>\n",
       "      <td>0.07</td>\n",
       "    </tr>\n",
       "  </tbody>\n",
       "</table>\n",
       "</div>"
      ],
      "text/plain": [
       "SEX                          Female  Male\n",
       "EDATTAIN                                 \n",
       "Less than primary completed    0.41  0.41\n",
       "Primary completed              0.23  0.28\n",
       "Secondary completed            0.25  0.24\n",
       "University completed           0.11  0.07"
      ]
     },
     "metadata": {},
     "output_type": "display_data"
    },
    {
     "data": {
      "text/plain": [
       "'Canada'"
      ]
     },
     "metadata": {},
     "output_type": "display_data"
    },
    {
     "data": {
      "text/html": [
       "<div>\n",
       "<table border=\"1\" class=\"dataframe\">\n",
       "  <thead>\n",
       "    <tr style=\"text-align: right;\">\n",
       "      <th>SEX</th>\n",
       "      <th>Female</th>\n",
       "      <th>Male</th>\n",
       "    </tr>\n",
       "    <tr>\n",
       "      <th>EDATTAIN</th>\n",
       "      <th></th>\n",
       "      <th></th>\n",
       "    </tr>\n",
       "  </thead>\n",
       "  <tbody>\n",
       "    <tr>\n",
       "      <th>Less than primary completed</th>\n",
       "      <td>0.17</td>\n",
       "      <td>0.17</td>\n",
       "    </tr>\n",
       "    <tr>\n",
       "      <th>Secondary completed</th>\n",
       "      <td>0.55</td>\n",
       "      <td>0.57</td>\n",
       "    </tr>\n",
       "    <tr>\n",
       "      <th>University completed</th>\n",
       "      <td>0.28</td>\n",
       "      <td>0.26</td>\n",
       "    </tr>\n",
       "  </tbody>\n",
       "</table>\n",
       "</div>"
      ],
      "text/plain": [
       "SEX                          Female  Male\n",
       "EDATTAIN                                 \n",
       "Less than primary completed    0.17  0.17\n",
       "Secondary completed            0.55  0.57\n",
       "University completed           0.28  0.26"
      ]
     },
     "metadata": {},
     "output_type": "display_data"
    },
    {
     "data": {
      "text/plain": [
       "'Panama'"
      ]
     },
     "metadata": {},
     "output_type": "display_data"
    },
    {
     "data": {
      "text/html": [
       "<div>\n",
       "<table border=\"1\" class=\"dataframe\">\n",
       "  <thead>\n",
       "    <tr style=\"text-align: right;\">\n",
       "      <th>SEX</th>\n",
       "      <th>Female</th>\n",
       "      <th>Male</th>\n",
       "    </tr>\n",
       "    <tr>\n",
       "      <th>EDATTAIN</th>\n",
       "      <th></th>\n",
       "      <th></th>\n",
       "    </tr>\n",
       "  </thead>\n",
       "  <tbody>\n",
       "    <tr>\n",
       "      <th>Less than primary completed</th>\n",
       "      <td>0.12</td>\n",
       "      <td>0.14</td>\n",
       "    </tr>\n",
       "    <tr>\n",
       "      <th>Primary completed</th>\n",
       "      <td>0.32</td>\n",
       "      <td>0.44</td>\n",
       "    </tr>\n",
       "    <tr>\n",
       "      <th>Secondary completed</th>\n",
       "      <td>0.33</td>\n",
       "      <td>0.29</td>\n",
       "    </tr>\n",
       "    <tr>\n",
       "      <th>University completed</th>\n",
       "      <td>0.23</td>\n",
       "      <td>0.12</td>\n",
       "    </tr>\n",
       "    <tr>\n",
       "      <th>Unknown</th>\n",
       "      <td>0.00</td>\n",
       "      <td>0.00</td>\n",
       "    </tr>\n",
       "  </tbody>\n",
       "</table>\n",
       "</div>"
      ],
      "text/plain": [
       "SEX                          Female  Male\n",
       "EDATTAIN                                 \n",
       "Less than primary completed    0.12  0.14\n",
       "Primary completed              0.32  0.44\n",
       "Secondary completed            0.33  0.29\n",
       "University completed           0.23  0.12\n",
       "Unknown                        0.00  0.00"
      ]
     },
     "metadata": {},
     "output_type": "display_data"
    },
    {
     "data": {
      "text/plain": [
       "'PuertoRico'"
      ]
     },
     "metadata": {},
     "output_type": "display_data"
    },
    {
     "data": {
      "text/html": [
       "<div>\n",
       "<table border=\"1\" class=\"dataframe\">\n",
       "  <thead>\n",
       "    <tr style=\"text-align: right;\">\n",
       "      <th>SEX</th>\n",
       "      <th>Female</th>\n",
       "      <th>Male</th>\n",
       "    </tr>\n",
       "    <tr>\n",
       "      <th>EDATTAIN</th>\n",
       "      <th></th>\n",
       "      <th></th>\n",
       "    </tr>\n",
       "  </thead>\n",
       "  <tbody>\n",
       "    <tr>\n",
       "      <th>Less than primary completed</th>\n",
       "      <td>0.12</td>\n",
       "      <td>0.11</td>\n",
       "    </tr>\n",
       "    <tr>\n",
       "      <th>Primary completed</th>\n",
       "      <td>0.15</td>\n",
       "      <td>0.18</td>\n",
       "    </tr>\n",
       "    <tr>\n",
       "      <th>Secondary completed</th>\n",
       "      <td>0.46</td>\n",
       "      <td>0.52</td>\n",
       "    </tr>\n",
       "    <tr>\n",
       "      <th>University completed</th>\n",
       "      <td>0.28</td>\n",
       "      <td>0.19</td>\n",
       "    </tr>\n",
       "  </tbody>\n",
       "</table>\n",
       "</div>"
      ],
      "text/plain": [
       "SEX                          Female  Male\n",
       "EDATTAIN                                 \n",
       "Less than primary completed    0.12  0.11\n",
       "Primary completed              0.15  0.18\n",
       "Secondary completed            0.46  0.52\n",
       "University completed           0.28  0.19"
      ]
     },
     "metadata": {},
     "output_type": "display_data"
    },
    {
     "data": {
      "text/plain": [
       "'UnitedStates'"
      ]
     },
     "metadata": {},
     "output_type": "display_data"
    },
    {
     "data": {
      "text/html": [
       "<div>\n",
       "<table border=\"1\" class=\"dataframe\">\n",
       "  <thead>\n",
       "    <tr style=\"text-align: right;\">\n",
       "      <th>SEX</th>\n",
       "      <th>Female</th>\n",
       "      <th>Male</th>\n",
       "    </tr>\n",
       "    <tr>\n",
       "      <th>EDATTAIN</th>\n",
       "      <th></th>\n",
       "      <th></th>\n",
       "    </tr>\n",
       "  </thead>\n",
       "  <tbody>\n",
       "    <tr>\n",
       "      <th>Less than primary completed</th>\n",
       "      <td>0.02</td>\n",
       "      <td>0.02</td>\n",
       "    </tr>\n",
       "    <tr>\n",
       "      <th>Primary completed</th>\n",
       "      <td>0.09</td>\n",
       "      <td>0.11</td>\n",
       "    </tr>\n",
       "    <tr>\n",
       "      <th>Secondary completed</th>\n",
       "      <td>0.61</td>\n",
       "      <td>0.59</td>\n",
       "    </tr>\n",
       "    <tr>\n",
       "      <th>University completed</th>\n",
       "      <td>0.27</td>\n",
       "      <td>0.28</td>\n",
       "    </tr>\n",
       "  </tbody>\n",
       "</table>\n",
       "</div>"
      ],
      "text/plain": [
       "SEX                          Female  Male\n",
       "EDATTAIN                                 \n",
       "Less than primary completed    0.02  0.02\n",
       "Primary completed              0.09  0.11\n",
       "Secondary completed            0.61  0.59\n",
       "University completed           0.27  0.28"
      ]
     },
     "metadata": {},
     "output_type": "display_data"
    }
   ],
   "source": [
    "for i in range(0, 5):\n",
    "    display(countryNames[i], ctab2[countryNames[i]])"
   ]
  },
  {
   "cell_type": "markdown",
   "metadata": {},
   "source": [
    "## 3. Application\n",
    "\n",
    "For each country of interest:\n",
    "\n",
    "Find current measure of pay gap inequality.\n",
    "\n",
    "Regress log(wages) on gender and other variables (race, number of dependents, education, etc.) and control for role/industry, industry, neither.\n",
    "\n",
    "Plot stacked bar chart of explained + unexplained.\n",
    "\n",
    "Plot current measure of inequality vs unexplained proportion from B-O."
   ]
  },
  {
   "cell_type": "markdown",
   "metadata": {},
   "source": [
    "# ASSUMPTIONS:\n",
    "\n",
    "* R^2 isn't terrible (fix: relative unexplained)\n",
    "* discrimination lies mainly in unexplained, and doesn't spill over too much to endowments.\n",
    "* by using two separate regressions, we are not imposing one set of behavior on each group. Education may not work the same way in that country for men and women."
   ]
  },
  {
   "cell_type": "markdown",
   "metadata": {},
   "source": [
    "**Citations:**\n",
    "\n",
    "Jann, Ben, 2008. \"<a href=\"https://EconPapers.repec.org/RePEc:ets:wpaper:5\">A Stata implementation of the Blinder-Oaxaca decomposition</a>\", No 5, ETH Zurich Sociology Working Papers, ETH Zurich, Chair of Sociology.\n",
    "\n",
    "__our data source__\n",
    "\n",
    "Kennedy, Peter & Jutta Heinrichs, 2007. \"A computational trick for calculating the Blinder-Oaxaca decomposition and its standard error,\" Economics Bulletin, AccessEcon, vol. 3(66), pages 1-7."
   ]
  }
 ],
 "metadata": {
  "anaconda-cloud": {},
  "kernelspec": {
   "display_name": "Python [conda root]",
   "language": "python",
   "name": "conda-root-py"
  },
  "language_info": {
   "codemirror_mode": {
    "name": "ipython",
    "version": 3
   },
   "file_extension": ".py",
   "mimetype": "text/x-python",
   "name": "python",
   "nbconvert_exporter": "python",
   "pygments_lexer": "ipython3",
   "version": "3.5.2"
  }
 },
 "nbformat": 4,
 "nbformat_minor": 2
}

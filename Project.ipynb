{
 "cells": [
  {
   "cell_type": "markdown",
   "metadata": {},
   "source": [
    "# Measuring the Gender Pay Gap with Blinder-Oaxaca Decompositions\n",
    "---------\n",
    "#### Chris Fong and Ronald Walker"
   ]
  },
  {
   "cell_type": "markdown",
   "metadata": {},
   "source": [
    "Due May 9th at 5pm\n",
    "\n",
    "Requirements:\n",
    "\n",
    "1. It should involve the use of real data to explore a question of interest to you.\n",
    "\n",
    "2. The data should be analyzed using figures/maps, summary tables as well as statistical methods introduced in Ec 140, 141 or C142. As a rough guide a good project will include 2-3 figures, 2-3 displays of summary or descriptive statistics (e.g., cross-tabs) and the presentation of estimation results from a small collection of econometric models (e.g., OLS or quantile regression fits with different conditioning variables).\n",
    "\n",
    "3. The analysis and write-up should be done in Python using a Jupyter notebook (with all project narrative included in markdown cells). Code should be clearly commented. The write-up should explain the assumptions being invoked to justify the analysis and also include a discussion and interpretation of any results. A clear discussion of the limitations of the analysis and how it might be improved through further work should also be included.\n",
    "\n",
    "4. group projects need to include a few paragraphs explaining each team members specific contributions"
   ]
  },
  {
   "cell_type": "code",
   "execution_count": 2,
   "metadata": {
    "collapsed": true
   },
   "outputs": [],
   "source": [
    "import pandas as pd\n",
    "import matplotlib.pyplot as plt\n",
    "import seaborn as sns\n",
    "import numpy as np\n",
    "%matplotlib inline"
   ]
  },
  {
   "cell_type": "markdown",
   "metadata": {},
   "source": [
    "0 -- Background\n",
    "\n",
    "1 -- Implementation and Interpretation of Blinder-Oaxaca\n",
    "\n",
    "2 -- Data Collection and Cleaning\n",
    "\n",
    "3 -- Application of Blinder-Oaxaca"
   ]
  },
  {
   "cell_type": "markdown",
   "metadata": {},
   "source": [
    "## 0. Background\n",
    "\n",
    "Motivation -- may merge w/ 1.\n",
    "\n",
    "Relating to previous studies. Seeing how this measures up compared to other measures."
   ]
  },
  {
   "cell_type": "markdown",
   "metadata": {},
   "source": [
    "## 1. Implementation and Interpretation of Blinder-Oaxaca\n",
    "\n",
    "`oaxaca` is ssc-able.\n",
    "\n",
    "porting into python. building on top of `statsmodels`.\n",
    "\n",
    "what the math behind it is.\n",
    "\n",
    "what we hope to do with that.\n",
    "\n",
    "how it measures pay gap."
   ]
  },
  {
   "cell_type": "markdown",
   "metadata": {},
   "source": [
    "## 2. Data\n",
    "\n",
    "Where the data set is from.\n",
    "\n",
    "How we plan to use it.\n",
    "\n",
    "Any standardization and cleaning you did.\n",
    "\n",
    "Any caveats.\n",
    "\n",
    "Summary tables and statistics."
   ]
  },
  {
   "cell_type": "code",
   "execution_count": 8,
   "metadata": {},
   "outputs": [
    {
     "name": "stdout",
     "output_type": "stream",
     "text": [
      "(5300079, 9)\n"
     ]
    },
    {
     "data": {
      "text/html": [
       "<div>\n",
       "<table border=\"1\" class=\"dataframe\">\n",
       "  <thead>\n",
       "    <tr style=\"text-align: right;\">\n",
       "      <th></th>\n",
       "      <th>COUNTRY</th>\n",
       "      <th>PERWT</th>\n",
       "      <th>AGE</th>\n",
       "      <th>SEX</th>\n",
       "      <th>MARST</th>\n",
       "      <th>NATIVITY</th>\n",
       "      <th>EDATTAIN</th>\n",
       "      <th>EMPSTAT</th>\n",
       "      <th>INCTOT</th>\n",
       "    </tr>\n",
       "  </thead>\n",
       "  <tbody>\n",
       "    <tr>\n",
       "      <th>0</th>\n",
       "      <td>Brazil</td>\n",
       "      <td>18.54</td>\n",
       "      <td>22</td>\n",
       "      <td>1</td>\n",
       "      <td>2</td>\n",
       "      <td>1</td>\n",
       "      <td>2</td>\n",
       "      <td>1</td>\n",
       "      <td>1000.0</td>\n",
       "    </tr>\n",
       "    <tr>\n",
       "      <th>1</th>\n",
       "      <td>Brazil</td>\n",
       "      <td>20.23</td>\n",
       "      <td>54</td>\n",
       "      <td>1</td>\n",
       "      <td>2</td>\n",
       "      <td>1</td>\n",
       "      <td>1</td>\n",
       "      <td>1</td>\n",
       "      <td>700.0</td>\n",
       "    </tr>\n",
       "    <tr>\n",
       "      <th>2</th>\n",
       "      <td>Brazil</td>\n",
       "      <td>20.23</td>\n",
       "      <td>44</td>\n",
       "      <td>2</td>\n",
       "      <td>2</td>\n",
       "      <td>1</td>\n",
       "      <td>1</td>\n",
       "      <td>1</td>\n",
       "      <td>419.0</td>\n",
       "    </tr>\n",
       "    <tr>\n",
       "      <th>3</th>\n",
       "      <td>Brazil</td>\n",
       "      <td>20.23</td>\n",
       "      <td>22</td>\n",
       "      <td>2</td>\n",
       "      <td>1</td>\n",
       "      <td>1</td>\n",
       "      <td>1</td>\n",
       "      <td>3</td>\n",
       "      <td>510.0</td>\n",
       "    </tr>\n",
       "    <tr>\n",
       "      <th>4</th>\n",
       "      <td>Brazil</td>\n",
       "      <td>20.23</td>\n",
       "      <td>26</td>\n",
       "      <td>2</td>\n",
       "      <td>1</td>\n",
       "      <td>1</td>\n",
       "      <td>3</td>\n",
       "      <td>1</td>\n",
       "      <td>650.0</td>\n",
       "    </tr>\n",
       "  </tbody>\n",
       "</table>\n",
       "</div>"
      ],
      "text/plain": [
       "  COUNTRY  PERWT  AGE  SEX  MARST  NATIVITY  EDATTAIN  EMPSTAT  INCTOT\n",
       "0  Brazil  18.54   22    1      2         1         2        1  1000.0\n",
       "1  Brazil  20.23   54    1      2         1         1        1   700.0\n",
       "2  Brazil  20.23   44    2      2         1         1        1   419.0\n",
       "3  Brazil  20.23   22    2      1         1         1        3   510.0\n",
       "4  Brazil  20.23   26    2      1         1         3        1   650.0"
      ]
     },
     "execution_count": 8,
     "metadata": {},
     "output_type": "execute_result"
    }
   ],
   "source": [
    "data = pd.read_csv('Brazil.csv')\n",
    "print(data.shape)\n",
    "data.head()"
   ]
  },
  {
   "cell_type": "code",
   "execution_count": 13,
   "metadata": {},
   "outputs": [
    {
     "data": {
      "text/html": [
       "<div>\n",
       "<table border=\"1\" class=\"dataframe\">\n",
       "  <thead>\n",
       "    <tr style=\"text-align: right;\">\n",
       "      <th></th>\n",
       "      <th>COUNTRY</th>\n",
       "      <th>PERWT</th>\n",
       "      <th>AGE</th>\n",
       "      <th>MARST</th>\n",
       "      <th>NATIVITY</th>\n",
       "      <th>EDATTAIN</th>\n",
       "      <th>EMPSTAT</th>\n",
       "      <th>INCTOT</th>\n",
       "    </tr>\n",
       "    <tr>\n",
       "      <th>SEX</th>\n",
       "      <th></th>\n",
       "      <th></th>\n",
       "      <th></th>\n",
       "      <th></th>\n",
       "      <th></th>\n",
       "      <th></th>\n",
       "      <th></th>\n",
       "      <th></th>\n",
       "    </tr>\n",
       "  </thead>\n",
       "  <tbody>\n",
       "    <tr>\n",
       "      <th>1</th>\n",
       "      <td>2770543</td>\n",
       "      <td>2770543</td>\n",
       "      <td>2770543</td>\n",
       "      <td>2770543</td>\n",
       "      <td>2770543</td>\n",
       "      <td>2770543</td>\n",
       "      <td>2770543</td>\n",
       "      <td>2770543</td>\n",
       "    </tr>\n",
       "    <tr>\n",
       "      <th>2</th>\n",
       "      <td>2529536</td>\n",
       "      <td>2529536</td>\n",
       "      <td>2529536</td>\n",
       "      <td>2529536</td>\n",
       "      <td>2529536</td>\n",
       "      <td>2529536</td>\n",
       "      <td>2529536</td>\n",
       "      <td>2529536</td>\n",
       "    </tr>\n",
       "  </tbody>\n",
       "</table>\n",
       "</div>"
      ],
      "text/plain": [
       "     COUNTRY    PERWT      AGE    MARST  NATIVITY  EDATTAIN  EMPSTAT   INCTOT\n",
       "SEX                                                                          \n",
       "1    2770543  2770543  2770543  2770543   2770543   2770543  2770543  2770543\n",
       "2    2529536  2529536  2529536  2529536   2529536   2529536  2529536  2529536"
      ]
     },
     "execution_count": 13,
     "metadata": {},
     "output_type": "execute_result"
    }
   ],
   "source": [
    "data.groupby('SEX').count()"
   ]
  },
  {
   "cell_type": "markdown",
   "metadata": {},
   "source": [
    "## 3. Application\n",
    "\n",
    "For each country of interest:\n",
    "\n",
    "Find current measure of pay gap inequality.\n",
    "\n",
    "Regress log(wages) on gender and other variables (race, number of dependents, education, etc.) and control for role/industry, industry, neither.\n",
    "\n",
    "Plot stacked bar chart of explained + unexplained.\n",
    "\n",
    "Plot current measure of inequality vs unexplained proportion from B-O."
   ]
  }
 ],
 "metadata": {
  "anaconda-cloud": {},
  "kernelspec": {
   "display_name": "Python [Root]",
   "language": "python",
   "name": "Python [Root]"
  },
  "language_info": {
   "codemirror_mode": {
    "name": "ipython",
    "version": 3
   },
   "file_extension": ".py",
   "mimetype": "text/x-python",
   "name": "python",
   "nbconvert_exporter": "python",
   "pygments_lexer": "ipython3",
   "version": "3.5.2"
  }
 },
 "nbformat": 4,
 "nbformat_minor": 2
}
